{
 "cells": [
  {
   "cell_type": "markdown",
   "id": "94ad5951",
   "metadata": {},
   "source": [
    "## Write a Python function that accepts a string and calculate the number of upper case letters and lower case letters.\n",
    "\n",
    "Sample String : 'The quick Brow Fox'\n",
    "\n",
    "Expected Output :\n",
    "\n",
    "No. of Upper case characters : 3\n",
    "\n",
    "No. of Lower case Characters : 12"
   ]
  },
  {
   "cell_type": "code",
   "execution_count": 1,
   "id": "590974a3",
   "metadata": {},
   "outputs": [
    {
     "name": "stdout",
     "output_type": "stream",
     "text": [
      "Enter any string of your choice :- The quick Brow Fox\n",
      "No. of Upper case characters :- 3\n",
      "No. of Lower case characters :- 12\n"
     ]
    }
   ],
   "source": [
    "def counts_strings(strings):                       # using user define fun \n",
    "    d = {\"lower case\": 0 , \"upper case\": 0 }       # creating a dictionary\n",
    "    for chrs in strings:        #-----O(n),        using for loop to counter char by char\n",
    "        if chrs.islower():            \n",
    "            d[\"lower case\"] += 1                   # adding the chrs by iterating till length of string\n",
    "        elif chrs.isupper():\n",
    "            d[\"upper case\"] += 1\n",
    "        else:\n",
    "            pass               # use pass or continue any one to avoid whitespace \n",
    "    return d                   # here using pass\n",
    "sample_strings = input(\"Enter any string of your choice :- \")  # taking input from user\n",
    "chara = counts_strings(sample_strings)\n",
    "print(\"No. of Upper case characters :-\", chara[\"upper case\"])\n",
    "print(\"No. of Lower case characters :-\", chara[\"lower case\"])\n",
    "\n",
    "# Total time complexity ---> O(n)"
   ]
  },
  {
   "cell_type": "code",
   "execution_count": null,
   "id": "4e5c24db",
   "metadata": {},
   "outputs": [],
   "source": []
  }
 ],
 "metadata": {
  "kernelspec": {
   "display_name": "Python 3 (ipykernel)",
   "language": "python",
   "name": "python3"
  },
  "language_info": {
   "codemirror_mode": {
    "name": "ipython",
    "version": 3
   },
   "file_extension": ".py",
   "mimetype": "text/x-python",
   "name": "python",
   "nbconvert_exporter": "python",
   "pygments_lexer": "ipython3",
   "version": "3.8.9"
  }
 },
 "nbformat": 4,
 "nbformat_minor": 5
}
